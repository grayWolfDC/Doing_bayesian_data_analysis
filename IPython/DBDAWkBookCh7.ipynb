{
 "cells": [
  {
   "cell_type": "code",
   "execution_count": 1,
   "metadata": {
    "collapsed": true
   },
   "outputs": [],
   "source": [
    "# Chapter 7 - Metropolis algorithm"
   ]
  },
  {
   "cell_type": "code",
   "execution_count": 31,
   "metadata": {
    "collapsed": true
   },
   "outputs": [],
   "source": [
    "import numpy as N\n",
    "import matplotlib.pyplot as plt\n",
    "import seaborn as sns\n",
    "from scipy.stats import beta,stats "
   ]
  },
  {
   "cell_type": "code",
   "execution_count": 17,
   "metadata": {
    "collapsed": true
   },
   "outputs": [],
   "source": [
    "%matplotlib inline"
   ]
  },
  {
   "cell_type": "code",
   "execution_count": 18,
   "metadata": {
    "collapsed": true
   },
   "outputs": [],
   "source": [
    "def Likelihood(theta,data):\n",
    "    \n",
    "    z = N.sum(data)\n",
    "    n = len(data)\n",
    "    if N.size(theta) == 1:\n",
    "        pDataGivenTheta = 0\n",
    "        if theta < 1 and theta > 0:\n",
    "            pDataGivenTheta = theta**z * (1-theta)**(n-z)\n",
    "    else:\n",
    "        pDataGivenTheta = theta**z*(1-theta)**(n-z)\n",
    "        # theta passed to this function are random and could inadvertently be beyond the [0,1] bounds\n",
    "        pDataGivenTheta[(theta > 1) | (theta < 0)] = 0\n",
    "    return pDataGivenTheta\n",
    "    \n",
    "def Prior(theta,form='uniform'):\n",
    "    \n",
    "    theta = N.array(theta)\n",
    "    \n",
    "    if form == 'uniform':\n",
    "        if N.size(theta) == 1:\n",
    "            prior = 0\n",
    "            if theta < 1 and theta > 0:\n",
    "                prior = 1\n",
    "        else:\n",
    "            prior = N.ones(len(theta)) # uniform density over [0,1]\n",
    "            # in case the some of the thetas (generated randomly) passed are out of [0,1] bounds\n",
    "            prior[(prior > 1) | (prior < 0)] = 0\n",
    "    elif form == 'bimodal':\n",
    "        \n",
    "        prior = beta.pdf(N.minimum(2*theta,2*(1-theta)),2,2) # equiv. to R's dbeta func.\n",
    "        # in case the some of the thetas (generated randomly) passed are out of [0,1] bounds\n",
    "        prior[(prior > 1) | (prior < 0)] = 0\n",
    "    \n",
    "    \n",
    "    return prior\n",
    "\n",
    "def TargetRelProb(theta,data):\n",
    "    \n",
    "    # calculates the un-normalized posterior distribution\n",
    "    targRelProb = Likelihood(theta,data) * Prior(theta)\n",
    "    return targRelProb"
   ]
  },
  {
   "cell_type": "code",
   "execution_count": 27,
   "metadata": {
    "collapsed": true
   },
   "outputs": [],
   "source": [
    "\"\"\"HPD.py\n",
    "This code was taken form the PyMC library https://github.com/pymc-devs/pymc\n",
    "\"\"\"\n",
    "\n",
    "def calc_min_interval(x, alpha):\n",
    "    \"\"\"Internal method to determine the minimum interval of a given width\n",
    "    Assumes that x is sorted numpy array.\n",
    "    \"\"\"\n",
    "\n",
    "    n = len(x)\n",
    "    cred_mass = 1.0-alpha\n",
    "\n",
    "    interval_idx_inc = int(N.floor(cred_mass*n))\n",
    "    n_intervals = n - interval_idx_inc\n",
    "    interval_width = x[interval_idx_inc:] - x[:n_intervals]\n",
    "\n",
    "    if len(interval_width) == 0:\n",
    "        raise ValueError('Too few elements for interval calculation')\n",
    "\n",
    "    min_idx = N.argmin(interval_width)\n",
    "    hdi_min = x[min_idx]\n",
    "    hdi_max = x[min_idx+interval_idx_inc]\n",
    "    return hdi_min, hdi_max\n",
    "\n",
    "\n",
    "def hpd(x, alpha=0.05):\n",
    "    \"\"\"Calculate highest posterior density (HPD) of array for given alpha. \n",
    "    The HPD is the minimum width Bayesian credible interval (BCI).\n",
    "    :Arguments:\n",
    "        x : Numpy array\n",
    "        An array containing MCMC samples\n",
    "        alpha : float\n",
    "        Desired probability of type I error (defaults to 0.05)\n",
    "    \"\"\"\n",
    "\n",
    "    # Make a copy of trace\n",
    "    x = x.copy()\n",
    "    # For multivariate node\n",
    "    if x.ndim > 1:\n",
    "        # Transpose first, then sort\n",
    "        tx = N.transpose(x, list(range(x.ndim))[1:]+[0])\n",
    "        dims = N.shape(tx)\n",
    "        # Container list for intervals\n",
    "        intervals = N.resize(0.0, dims[:-1]+(2,))\n",
    "\n",
    "        for index in make_indices(dims[:-1]):\n",
    "            try:\n",
    "                index = tuple(index)\n",
    "            except TypeError:\n",
    "                pass\n",
    "\n",
    "            # Sort trace\n",
    "            sx = N.sort(tx[index])\n",
    "            # Append to list\n",
    "            intervals[index] = calc_min_interval(sx, alpha)\n",
    "        # Transpose back before returning\n",
    "        return N.array(intervals)\n",
    "    else:\n",
    "        # Sort univariate node\n",
    "        sx = N.sort(x)\n",
    "        return N.array(calc_min_interval(sx, alpha))"
   ]
  },
  {
   "cell_type": "code",
   "execution_count": 34,
   "metadata": {
    "collapsed": true
   },
   "outputs": [],
   "source": [
    "\"\"\"plot_post.py\"\"\"\n",
    "\n",
    "def plot_post(param_sample_vec, cred_mass=0.95, comp_val=False,\n",
    "              ROPE=False, ylab='', xlab='parameter', fontsize=14, labelsize=14,\n",
    "              title='', framealpha=1, facecolor='skyblue', edgecolor='white',\n",
    "              show_mode=True, bins=50):\n",
    "    \n",
    "    #compute HDI\n",
    "    HDI = hpd(param_sample_vec, 1-cred_mass)\n",
    "\n",
    "    post_summary = {'mean':0,'median':0,'mode':0, 'hdi_mass':0,'hdi_low':0,\n",
    "                   'hdi_high':0, 'comp_val':0, 'pc_gt_comp_val':0, 'ROPE_low':0,\n",
    "                   'ROPE_high':0, 'pc_in_ROPE':0}\n",
    "    post_summary['mean'] = N.mean(param_sample_vec)\n",
    "    post_summary['median'] = N.median(param_sample_vec)\n",
    "    post_summary['mode'] = stats.mode(param_sample_vec)[0]\n",
    "    post_summary['hdi_mass'] = cred_mass\n",
    "    post_summary['hdi_low'] = HDI[0]\n",
    "    post_summary['hdi_high'] = HDI[1]\n",
    "\n",
    "    # Plot histogram.\n",
    "    n, bins, patches = plt.hist(param_sample_vec, normed=True, bins=bins,\n",
    "                                edgecolor=edgecolor, facecolor=facecolor)\n",
    "    plt.xlabel(xlab, fontsize=fontsize)\n",
    "    plt.ylabel(ylab, fontsize=fontsize)\n",
    "    plt.title(title, fontsize=fontsize)\n",
    "\n",
    "    cv_ht = 0.75*N.max(n)\n",
    "    cen_tend_ht = 0.9 * cv_ht\n",
    "    ROPE_text_ht = 0.55 * cv_ht\n",
    "#    # Display mean or mode:\n",
    "    if show_mode:\n",
    "        plt.plot(0, label='mode = %.2f' % post_summary['mode'], alpha=0)\n",
    "    else:\n",
    "        plt.plot(0, label='mean = %.2f' % post_summary['mean'], alpha=0)\n",
    "    # Display the comparison value.\n",
    "\n",
    "    if comp_val is not False:\n",
    "        pc_gt_comp_val = 100 * N.sum(param_sample_vec > comp_val)/len(param_sample_vec)\n",
    "        pc_lt_comp_val = 100 - pc_gt_comp_val\n",
    "        plt.plot([comp_val, comp_val], [0, cv_ht], color='darkgreen',\n",
    "                 linestyle='--', linewidth=2,\n",
    "                 label='%.1f%% <%.1f < %.1f%%'\n",
    "                 % (pc_lt_comp_val, comp_val, pc_gt_comp_val))\n",
    "        post_summary['comp_val'] = comp_val\n",
    "        post_summary['pc_gt_comp_val'] = pc_gt_comp_val\n",
    "#    # Display the ROPE.\n",
    "    if ROPE is not False:\n",
    "        rope_col = 'darkred'\n",
    "        pc_in_ROPE = round(N.sum((param_sample_vec > ROPE[0]) & (param_sample_vec < ROPE[1]))/len(param_sample_vec)*100)\n",
    "        plt.plot([ROPE[0], ROPE[0]], [0, 0.96*ROPE_text_ht], color=rope_col,\n",
    "                linestyle=':', linewidth=4,\n",
    "                label='%.1f%% in ROPE' % pc_in_ROPE)\n",
    "        plt.plot([ROPE[1], ROPE[1]], [0, 0.96*ROPE_text_ht], color=rope_col,\n",
    "                linestyle=':', linewidth=4)\n",
    "        post_summary['ROPE_low'] = ROPE[0] \n",
    "        post_summary['ROPE_high'] = ROPE[1] \n",
    "        post_summary['pc_in_ROPE'] = pc_in_ROPE\n",
    "#    # Display the HDI.\n",
    "    plt.plot(HDI, [0, 0], linewidth=6, color='k', label='HDI %.1f%% %.3f-%.3f' % (cred_mass*100, HDI[0], HDI[1]))\n",
    "    plt.legend(loc='upper left', fontsize=labelsize, framealpha=framealpha)\n",
    "    return post_summary"
   ]
  },
  {
   "cell_type": "code",
   "execution_count": 21,
   "metadata": {
    "collapsed": true
   },
   "outputs": [],
   "source": [
    "myData = N.repeat([1,0],[7,3])"
   ]
  },
  {
   "cell_type": "code",
   "execution_count": 35,
   "metadata": {
    "collapsed": false
   },
   "outputs": [
    {
     "data": {
      "image/png": "[encoded data removed]",
      "text/plain": [
       "<matplotlib.figure.Figure at 0x7f0d4c024590>"
      ]
     },
     "metadata": {},
     "output_type": "display_data"
    }
   ],
   "source": [
    "\n",
    "# Specify the length of the trajectory, i.e. the number of jumps to try:\n",
    "trajLength = 11112 # arbitrary large number\n",
    "# Initialize the vector that will store the results:\n",
    "trajectory = N.zeros(trajLength)\n",
    "# Specify where to start the trajectory:\n",
    "trajectory[0] = 0.5 # arbitrary value\n",
    "# Specify the burn-in period:\n",
    "burnIn = N.ceil(0.1 * trajLength) # arbitrary number, less than trajLength\n",
    "# Initialize accepted/rejected counters, just to monitor performance\n",
    "nAccepted = 0\n",
    "nRejected = 0\n",
    "# Specify seed to reproduce same random walk\n",
    "N.random.seed(47405)\n",
    "\n",
    "# Now generate the random walk. The 't' index is time or trial in the walk\n",
    "\n",
    "for t in range(trajLength-1):\n",
    "    currPos=trajectory[t]\n",
    "    # Use the proposal distribution to generate a proposed jump.\n",
    "    # The shape/variance of the proposal distribution can be changed\n",
    "    # to whatever you think is appropriate for the target distribution.\n",
    "    proposedJump=N.random.normal(loc=0,scale=0.1,size=1)\n",
    "    # Generate a random uniform value from the interval [0,1]\n",
    "    acceptCrit = N.random.uniform(size=1)\n",
    "    # Compute the probability of accepting the proposed jump:\n",
    "    probAccept = N.minimum(1,TargetRelProb(currPos + proposedJump,myData)/TargetRelProb(currPos,myData))\n",
    "    if acceptCrit < probAccept:\n",
    "        # accept the proposed jump\n",
    "        trajectory[t+1] = currPos + proposedJump\n",
    "        #increment the acceptance counter (just to monitor performance)\n",
    "        if t>burnIn:\n",
    "            nAccepted += 1\n",
    "    else:\n",
    "        # reject the proposed jump, stay at current position\n",
    "        trajectory[t+1] = currPos\n",
    "        # increment the rejection counter\n",
    "        if t>burnIn:\n",
    "            nRejected += 1\n",
    "\n",
    "#Extract the post burn-in part of the trajectory\n",
    "acceptedTraj = trajectory[burnIn + 1:]\n",
    "\n",
    "# END OF METROPOLIS ALGORITHM\n",
    "#----------------------------------------------------------------------\n",
    "\n",
    "# Display the posterior\n",
    "\n",
    "# Display rejected/accepted ratio in the plot\n",
    "mean_traj = N.mean(acceptedTraj)\n",
    "std_traj = N.std(acceptedTraj)\n",
    "\n",
    "plt.figure(figsize=(16,6)) # Brian added\n",
    "\n",
    "plt.plot(0, label=r'$N_{pro}=%s$ $\\frac{N_{acc}}{N_{pro}} = %.3f$' % (len(acceptedTraj), (nAccepted/len(acceptedTraj))), alpha=0)\n",
    "\n",
    "# Evidence for model, p(D).\n",
    "\n",
    "# Compute a,b parameters for beta distribution that has the same mean\n",
    "# and stdev as the sample from the posterior. This is a useful choice\n",
    "# when the likelihood function is Bernoulli.\n",
    "a = mean_traj * ((mean_traj*(1 - mean_traj)/std_traj**2) - 1)\n",
    "b = (1 - mean_traj) * ((mean_traj*(1 - mean_traj)/std_traj**2) - 1)\n",
    "\n",
    "# For every theta value in the posterior sample, compute \n",
    "# dbeta(theta,a,b) / likelihood(theta)*prior(theta)\n",
    "# This computation assumes that likelihood and prior are proper densities,\n",
    "# i.e., not just relative probabilities. This computation also assumes that\n",
    "# the likelihood and prior functions were defined to accept a vector argument,\n",
    "# not just a single-component scalar argument.\n",
    "wtd_evid = beta.pdf(acceptedTraj, a, b) / (Likelihood(acceptedTraj, myData) * Prior(acceptedTraj))\n",
    "p_data = 1 / N.mean(wtd_evid)\n",
    "\n",
    "\n",
    "# Display p(D) in the graph\n",
    "plt.plot(0, label='p(D) = %.3e' % p_data, alpha=0)\n",
    "\n",
    "# Display the posterior.\n",
    "ROPE = N.array([0.76, 0.8])\n",
    "mcmc_info = plot_post(acceptedTraj, xlab='theta', show_mode=False, comp_val=0.9, ROPE=ROPE)"
   ]
  },
  {
   "cell_type": "code",
   "execution_count": null,
   "metadata": {
    "collapsed": true
   },
   "outputs": [],
   "source": [
    "# HERE IS THE PYMC VERSION OF THE ABOVE"
   ]
  },
  {
   "cell_type": "code",
   "execution_count": 6,
   "metadata": {
    "collapsed": true
   },
   "outputs": [],
   "source": [
    "import numpy as np\n",
    "gain = np.array([0.9977,0.9912,0.9822,0.9864,0.9956,0.9712,0.9598,1.00]) \n",
    "gain105 = np.array([0.9992,0.9933,0.9862,0.9916,1.0042,0.9916,0.9933,1.05]) \n",
    "gain095 = np.array([0.9948,0.9870,0.9758,0.9785,0.9841,0.9480,0.9247,0.95])"
   ]
  },
  {
   "cell_type": "code",
   "execution_count": 4,
   "metadata": {
    "collapsed": false
   },
   "outputs": [
    {
     "name": "stdout",
     "output_type": "stream",
     "text": [
      "[0.9977, 0.9912, 0.9822, 0.9864, 0.9956, 0.9712, 0.9598, 1.0]\n",
      "[0.9992, 0.9933, 0.9862, 0.9916, 1.0042, 0.9916, 0.9933, 1.05]\n",
      "[0.9948, 0.987, 0.9758, 0.9785, 0.9841, 0.948, 0.9247, 0.95]\n"
     ]
    }
   ],
   "source": [
    "print gain\n",
    "print gain105\n",
    "print gain095"
   ]
  },
  {
   "cell_type": "code",
   "execution_count": 5,
   "metadata": {
    "collapsed": true
   },
   "outputs": [],
   "source": [
    "import matplotlib.pyplot as plt"
   ]
  },
  {
   "cell_type": "code",
   "execution_count": 7,
   "metadata": {
    "collapsed": false
   },
   "outputs": [
    {
     "data": {
      "text/plain": [
       "[<matplotlib.lines.Line2D at 0x7f8519304190>]"
      ]
     },
     "execution_count": 7,
     "metadata": {},
     "output_type": "execute_result"
    }
   ],
   "source": [
    "plt.plot(gain)\n",
    "plt.plot(gain105,'r')\n",
    "plt.plot(gain095,'g')"
   ]
  },
  {
   "cell_type": "code",
   "execution_count": 8,
   "metadata": {
    "collapsed": true
   },
   "outputs": [],
   "source": [
    "plt.show()"
   ]
  },
  {
   "cell_type": "code",
   "execution_count": null,
   "metadata": {
    "collapsed": true
   },
   "outputs": [],
   "source": []
  }
 ],
 "metadata": {
  "kernelspec": {
   "display_name": "Python 2",
   "language": "python",
   "name": "python2"
  },
  "language_info": {
   "codemirror_mode": {
    "name": "ipython",
    "version": 2
   },
   "file_extension": ".py",
   "mimetype": "text/x-python",
   "name": "python",
   "nbconvert_exporter": "python",
   "pygments_lexer": "ipython2",
   "version": "2.7.10"
  }
 },
 "nbformat": 4,
 "nbformat_minor": 0
}
