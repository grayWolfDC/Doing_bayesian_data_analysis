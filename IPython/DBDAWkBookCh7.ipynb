{
 "cells": [
  {
   "cell_type": "code",
   "execution_count": 1,
   "metadata": {
    "collapsed": true
   },
   "outputs": [],
   "source": [
    "# Chapter 7 - Metropolis algorithm"
   ]
  },
  {
   "cell_type": "code",
   "execution_count": 3,
   "metadata": {
    "collapsed": true
   },
   "outputs": [],
   "source": [
    "import numpy as N"
   ]
  },
  {
   "cell_type": "code",
   "execution_count": 49,
   "metadata": {
    "collapsed": true
   },
   "outputs": [],
   "source": [
    "myData = N.repeat([1,0],[7,3])"
   ]
  },
  {
   "cell_type": "code",
   "execution_count": 63,
   "metadata": {
    "collapsed": true
   },
   "outputs": [],
   "source": [
    "def Likelihood(theta,data):\n",
    "    \n",
    "    z = N.sum(data)\n",
    "    n = len(data)\n",
    "    if N.size(theta) == 1:\n",
    "        pDataGivenTheta = 0\n",
    "        if theta < 1 and theta > 0:\n",
    "            pDataGivenTheta = theta**z * (1-theta)**(n-z)\n",
    "    else:\n",
    "        pDataGivenTheta = theta**z*(1-theta)**(n-z)\n",
    "        # theta passed to this function are random and could inadvertently be beyond the [0,1] bounds\n",
    "        pDataGivenTheta[(theta > 1) | (theta < 0)] = 0\n",
    "    return pDataGivenTheta\n",
    "    \n",
    "def Prior(theta,form='uniform'):\n",
    "    \n",
    "    theta = N.array(theta)\n",
    "    \n",
    "    if form == 'uniform':\n",
    "        if N.size(theta) == 1:\n",
    "            prior = 0\n",
    "            if theta < 1 and theta > 0:\n",
    "                prior = 1\n",
    "        else:\n",
    "            prior = N.ones(len(theta)) # uniform density over [0,1]\n",
    "            # in case the some of the thetas (generated randomly) passed are out of [0,1] bounds\n",
    "            prior[(prior > 1) | (prior < 0)] = 0\n",
    "    elif form == 'bimodal':\n",
    "        from scipy.stats import beta \n",
    "        prior = beta.pdf(N.minimum(2*theta,2*(1-theta)),2,2) # equiv. to R's dbeta func.\n",
    "        # in case the some of the thetas (generated randomly) passed are out of [0,1] bounds\n",
    "        prior[(prior > 1) | (prior < 0)] = 0\n",
    "    \n",
    "    \n",
    "    return prior\n",
    "\n",
    "def TargetRelProb(theta,data):\n",
    "    \n",
    "    # calculates the un-normalized posterior distribution\n",
    "    targRelProb = Likelihood(theta,data) * Prior(theta)\n",
    "    return targRelProb"
   ]
  },
  {
   "cell_type": "code",
   "execution_count": 33,
   "metadata": {
    "collapsed": true
   },
   "outputs": [],
   "source": [
    "# Specify the length of the trajectory, i.e. the number of jumps to try:\n",
    "trajLength = 11112 # arbitrary large number\n",
    "# Initialize the vector that will store the results:\n",
    "trajectory = N.zeros(trajLength)\n",
    "# Specify where to start the trajectory:\n",
    "trajectory[0] = 0.5 # arbitrary value\n",
    "# Specify the burn-in period:\n",
    "burnIn = N.ceil(0.1 * trajLength) # arbitrary number, less than trajLength\n",
    "# Initialize accepted/rejected counters, just to monitor performance\n",
    "nAccepted = 0\n",
    "nRejected = 0\n",
    "# Specify seed to reproduce same random walk\n",
    "N.random.seed(47405)\n",
    "\n",
    "# Now generate the random walk. The 't' index is time or trial in the walk\n",
    "\n",
    "for t in range(trajLength-1):\n",
    "    currPos=trajectory[t]\n",
    "    # Use the proposal distribution to generate a proposed jump.\n",
    "    # The shape/variance of the proposal distribution can be changed\n",
    "    # to whatever you think is appropriate for the target distribution.\n",
    "    proposedJump=N.random.normal(loc=0,scale=0.1,size=1)\n",
    "    # Generate a random uniform value from the interval [0,1]\n",
    "    acceptCrit = N.random.uniform(size=1)\n",
    "    # Compute the probability of accepting the proposed jump:\n",
    "    probAccept = N.minimum(1,TargetRelProb(currPos + proposedJump,myData)/TargetRelProb(currPos,myData))\n",
    "    if acceptCrit < probAccept:\n",
    "        # accept the proposed jump\n",
    "        trajectory[t+1] = currPos + proposedJump\n",
    "        #increment the acceptance counter (just to monitor performance)\n",
    "        if t>burnIn:\n",
    "            nAccepted += 1\n",
    "    else:\n",
    "        # reject the proposed jump, stay at current position\n",
    "        trajectory[t+1] = currPos\n",
    "        # increment the rejection counter\n",
    "        if t>burnIn:\n",
    "            nRejected += 1\n",
    "\n",
    "#Extract the post burn-in part of the trajectory\n",
    "acceptedTraj = trajectory[burnIn + 1:]\n",
    "\n",
    "# END OF METROPOLIS ALGORITHM\n",
    "#----------------------------------------------------------------------\n",
    "# Display the posterior\n",
    "    "
   ]
  },
  {
   "cell_type": "code",
   "execution_count": 36,
   "metadata": {
    "collapsed": false
   },
   "outputs": [
    {
     "data": {
      "text/plain": [
       "array([-0.08711759])"
      ]
     },
     "execution_count": 36,
     "metadata": {},
     "output_type": "execute_result"
    }
   ],
   "source": [
    "N.random.normal(loc=0,scale=0.1,size=1)"
   ]
  },
  {
   "cell_type": "code",
   "execution_count": 64,
   "metadata": {
    "collapsed": false
   },
   "outputs": [
    {
     "data": {
      "text/plain": [
       "1"
      ]
     },
     "execution_count": 64,
     "metadata": {},
     "output_type": "execute_result"
    }
   ],
   "source": [
    "theta=0.5-0.08711759\n",
    "#Likelihood(theta,myData)\n",
    "Prior(theta)"
   ]
  },
  {
   "cell_type": "code",
   "execution_count": 93,
   "metadata": {
    "collapsed": false
   },
   "outputs": [
    {
     "data": {
      "text/plain": [
       "array([ 0.39437099])"
      ]
     },
     "execution_count": 93,
     "metadata": {},
     "output_type": "execute_result"
    }
   ],
   "source": [
    "pj = N.random.normal(loc=0,scale=0.1,size=1)\n",
    "N.minimum(1,TargetRelProb(0.5 + pj,myData)/TargetRelProb(0.5,myData))"
   ]
  },
  {
   "cell_type": "code",
   "execution_count": 87,
   "metadata": {
    "collapsed": false
   },
   "outputs": [
    {
     "data": {
      "text/plain": [
       "0.0009765625"
      ]
     },
     "execution_count": 87,
     "metadata": {},
     "output_type": "execute_result"
    }
   ],
   "source": [
    "TargetRelProb(0.5,myData)"
   ]
  },
  {
   "cell_type": "code",
   "execution_count": 72,
   "metadata": {
    "collapsed": false
   },
   "outputs": [],
   "source": [
    "pj=N.random.normal"
   ]
  },
  {
   "cell_type": "code",
   "execution_count": 77,
   "metadata": {
    "collapsed": false
   },
   "outputs": [
    {
     "name": "stdout",
     "output_type": "stream",
     "text": [
      "[-0.07606061]\n",
      "[ 0.14721866]\n",
      "[-0.03405059]\n",
      "[-0.01216837]\n",
      "[-0.03528785]\n",
      "[ 0.04941452]\n",
      "[ 0.01068187]\n",
      "[-0.04296744]\n",
      "[-0.06138142]\n",
      "[ 0.0073397]\n"
     ]
    }
   ],
   "source": [
    "for i in range(10):\n",
    "   print pj(loc=0,scale=0.1,size=1)"
   ]
  },
  {
   "cell_type": "code",
   "execution_count": 85,
   "metadata": {
    "collapsed": false
   },
   "outputs": [
    {
     "data": {
      "text/plain": [
       "array([ 0.44077337])"
      ]
     },
     "execution_count": 85,
     "metadata": {},
     "output_type": "execute_result"
    }
   ],
   "source": [
    "N.random.uniform(size=1)"
   ]
  },
  {
   "cell_type": "code",
   "execution_count": null,
   "metadata": {
    "collapsed": true
   },
   "outputs": [],
   "source": []
  }
 ],
 "metadata": {
  "kernelspec": {
   "display_name": "Python 2",
   "language": "python",
   "name": "python2"
  },
  "language_info": {
   "codemirror_mode": {
    "name": "ipython",
    "version": 2
   },
   "file_extension": ".py",
   "mimetype": "text/x-python",
   "name": "python",
   "nbconvert_exporter": "python",
   "pygments_lexer": "ipython2",
   "version": "2.7.10"
  }
 },
 "nbformat": 4,
 "nbformat_minor": 0
}
